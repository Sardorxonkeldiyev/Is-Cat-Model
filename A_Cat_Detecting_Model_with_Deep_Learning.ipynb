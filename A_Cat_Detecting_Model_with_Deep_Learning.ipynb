{
  "nbformat": 4,
  "nbformat_minor": 0,
  "metadata": {
    "colab": {
      "private_outputs": true,
      "provenance": [],
      "gpuType": "T4"
    },
    "kernelspec": {
      "name": "python3",
      "display_name": "Python 3"
    },
    "language_info": {
      "name": "python"
    },
    "accelerator": "GPU"
  },
  "cells": [
    {
      "cell_type": "markdown",
      "source": [
        "### This is a simple model that detects our cat. This model is fully trained in Deep Learning"
      ],
      "metadata": {
        "id": "EsP0czS1Ugx6"
      }
    },
    {
      "cell_type": "code",
      "execution_count": null,
      "metadata": {
        "id": "IMb3uM63Nxn3"
      },
      "outputs": [],
      "source": [
        "# Library:\n",
        "from fastai.vision.all import *\n",
        "from ipywidgets import widgets\n",
        "\n",
        "# data:\n",
        "path = untar_data(URLs.PETS)/'images'\n",
        "\n",
        "# label function:\n",
        "def is_cat(x): return x[0].isupper()\n",
        "\n",
        "# data block:\n",
        "dls = ImageDataLoaders.from_name_func(\n",
        "    path, get_image_files(path), valid_pct=0.2, seed=42,\n",
        "    label_func=is_cat, item_tfms=Resize(224)\n",
        ")\n",
        "\n",
        "# data block:\n",
        "#dblock = DataBlock(\n",
        "#    blocks=(ImageBlock, CategoryBlock),\n",
        "#    get_items=get_image_files,\n",
        "#    splitter=RandomSplitter(valid_pct=0.2, seed=42),\n",
        "#    get_y=is_cat,\n",
        "#    item_tfms=Resize(224)\n",
        "#)\n",
        "\n",
        "\n",
        "#train:\n",
        "learn = cnn_learner(dls, resnet34, metrics=accuracy)\n",
        "learn.fine_tune(2)"
      ]
    },
    {
      "cell_type": "markdown",
      "source": [
        "### Upload Image"
      ],
      "metadata": {
        "id": "0WNoYaZJUpEp"
      }
    },
    {
      "cell_type": "code",
      "source": [
        "upload = widgets.FileUpload()\n",
        "upload"
      ],
      "metadata": {
        "id": "H-HQCZAARZK7"
      },
      "execution_count": null,
      "outputs": []
    },
    {
      "cell_type": "markdown",
      "source": [
        "### Predict:"
      ],
      "metadata": {
        "id": "1810N3myUsB3"
      }
    },
    {
      "cell_type": "code",
      "source": [
        "img = PILImage.create(upload.data[-1])\n",
        "pred,_,prob = learn.predict(img) # predict\n",
        "print(f\"Is Cat?: {pred}\")\n",
        "print(f\"Probability: {prob[1].item():.3f}\")\n",
        "img"
      ],
      "metadata": {
        "id": "YYp0qW7XQFKX"
      },
      "execution_count": null,
      "outputs": []
    },
    {
      "cell_type": "markdown",
      "source": [
        "# Show training and validation loss:"
      ],
      "metadata": {
        "id": "sSFetnisVvQ6"
      }
    },
    {
      "cell_type": "code",
      "source": [
        "# Show training and validation loss\n",
        "learn.recorder.plot_loss()\n",
        "\n",
        "# Confusion matrix\n",
        "interp = ClassificationInterpretation.from_learner(learn)\n",
        "interp.plot_confusion_matrix(figsize=(8,8), dpi=60)\n",
        "\n",
        "# Show most confused\n",
        "interp.plot_top_losses(9, figsize=(15,11))\n",
        "\n",
        "# File upload widget\n",
        "upload = widgets.FileUpload()\n",
        "display(upload)\n",
        "\n",
        "# Prediction on uploaded image\n",
        "def on_upload_change(change):\n",
        "    img = PILImage.create(upload.data[-1])\n",
        "    pred, _, prob = learn.predict(img) # predict\n",
        "    print(f\"Is Cat?: {pred}\")\n",
        "    print(f\"Probability: {prob[1].item():.3f}\")\n",
        "    display(img)\n",
        "\n",
        "upload.observe(on_upload_change, names='data')"
      ],
      "metadata": {
        "id": "ti1y6VYuTsRg"
      },
      "execution_count": null,
      "outputs": []
    },
    {
      "cell_type": "code",
      "source": [],
      "metadata": {
        "id": "mdlQBzZbVSmI"
      },
      "execution_count": null,
      "outputs": []
    }
  ]
}